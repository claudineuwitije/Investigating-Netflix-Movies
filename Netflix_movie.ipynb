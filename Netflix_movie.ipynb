{
 "cells": [
  {
   "cell_type": "markdown",
   "id": "937acf3c-c077-4ca6-8d90-8f6dd4d13c54",
   "metadata": {},
   "source": [
    "<center><img src=\"redpopcorn.jpg\"></center>"
   ]
  },
  {
   "cell_type": "markdown",
   "id": "5962b2cd-17bb-4ec9-b2d5-68537ca26860",
   "metadata": {},
   "source": [
    "**Netflix**! What started in 1997 as a DVD rental service has since exploded into one of the largest entertainment and media companies.\n",
    "\n",
    "Given the large number of movies and series available on the platform, it is a perfect opportunity to flex your exploratory data analysis skills and dive into the entertainment industry.\n",
    "\n",
    "You work for a production company that specializes in nostalgic styles. You want to do some research on movies released in the 1990's. You'll delve into Netflix data and perform exploratory data analysis to better understand this awesome movie decade!\n",
    "\n",
    "You have been supplied with the dataset `netflix_data.csv`, along with the following table detailing the column names and descriptions. Feel free to experiment further after submitting!\n",
    "\n",
    "## The data\n",
    "### **netflix_data.csv**\n",
    "| Column | Description |\n",
    "|--------|-------------|\n",
    "| `show_id` | The ID of the show |\n",
    "| `type` | Type of show |\n",
    "| `title` | Title of the show |\n",
    "| `director` | Director of the show |\n",
    "| `cast` | Cast of the show |\n",
    "| `country` | Country of origin |\n",
    "| `date_added` | Date added to Netflix |\n",
    "| `release_year` | Year of Netflix release |\n",
    "| `duration` | Duration of the show in minutes |\n",
    "| `description` | Description of the show |\n",
    "| `genre` | Show genre |"
   ]
  },
  {
   "cell_type": "markdown",
   "id": "91cf44ac",
   "metadata": {},
   "source": [
    "# EXPLORATORY DATA ANALYSIS ON THE NETFLIX MOVIES DATA"
   ]
  },
  {
   "cell_type": "code",
   "execution_count": 1,
   "id": "320a3abc-8a36-4b2b-baaf-473325363a4d",
   "metadata": {
    "executionCancelledAt": null,
    "executionTime": 39,
    "lastExecutedAt": 1726339171198,
    "lastExecutedByKernel": "9721a70a-bb53-488a-a06d-d6eb4ed82360",
    "lastScheduledRunId": null,
    "lastSuccessfullyExecutedCode": "# Importing pandas and matplotlib\nimport pandas as pd\nimport matplotlib.pyplot as plt\n\n# Read in the Netflix CSV as a DataFrame\nnetflix_df = pd.read_csv(\"netflix_data.csv\")"
   },
   "outputs": [],
   "source": [
    "# Importing pandas and matplotlib\n",
    "import pandas as pd\n",
    "import matplotlib.pyplot as plt\n",
    "\n",
    "# Read in the Netflix CSV as a DataFrame\n",
    "netflix_df = pd.read_csv(\"C:/Users/uwicl/Documents/00_DSTI/Courses/05_Python/Investigating-Netflix-Movies/01_Exploring Netflix Movies/netflix_data.csv\")"
   ]
  },
  {
   "cell_type": "markdown",
   "id": "dc337e47-74df-4415-b0d1-ed5221061116",
   "metadata": {},
   "source": [
    "### A. QUICK VIEW ON NETFLIX DATASET"
   ]
  },
  {
   "cell_type": "code",
   "execution_count": 2,
   "id": "ea8c6f45",
   "metadata": {},
   "outputs": [
    {
     "data": {
      "text/html": [
       "<div>\n",
       "<style scoped>\n",
       "    .dataframe tbody tr th:only-of-type {\n",
       "        vertical-align: middle;\n",
       "    }\n",
       "\n",
       "    .dataframe tbody tr th {\n",
       "        vertical-align: top;\n",
       "    }\n",
       "\n",
       "    .dataframe thead th {\n",
       "        text-align: right;\n",
       "    }\n",
       "</style>\n",
       "<table border=\"1\" class=\"dataframe\">\n",
       "  <thead>\n",
       "    <tr style=\"text-align: right;\">\n",
       "      <th></th>\n",
       "      <th>show_id</th>\n",
       "      <th>type</th>\n",
       "      <th>title</th>\n",
       "      <th>director</th>\n",
       "      <th>cast</th>\n",
       "      <th>country</th>\n",
       "      <th>date_added</th>\n",
       "      <th>release_year</th>\n",
       "      <th>duration</th>\n",
       "      <th>description</th>\n",
       "      <th>genre</th>\n",
       "    </tr>\n",
       "  </thead>\n",
       "  <tbody>\n",
       "    <tr>\n",
       "      <th>0</th>\n",
       "      <td>s2</td>\n",
       "      <td>Movie</td>\n",
       "      <td>7:19</td>\n",
       "      <td>Jorge Michel Grau</td>\n",
       "      <td>Demián Bichir, Héctor Bonilla, Oscar Serrano, ...</td>\n",
       "      <td>Mexico</td>\n",
       "      <td>December 23, 2016</td>\n",
       "      <td>2016</td>\n",
       "      <td>93</td>\n",
       "      <td>After a devastating earthquake hits Mexico Cit...</td>\n",
       "      <td>Dramas</td>\n",
       "    </tr>\n",
       "    <tr>\n",
       "      <th>1</th>\n",
       "      <td>s3</td>\n",
       "      <td>Movie</td>\n",
       "      <td>23:59</td>\n",
       "      <td>Gilbert Chan</td>\n",
       "      <td>Tedd Chan, Stella Chung, Henley Hii, Lawrence ...</td>\n",
       "      <td>Singapore</td>\n",
       "      <td>December 20, 2018</td>\n",
       "      <td>2011</td>\n",
       "      <td>78</td>\n",
       "      <td>When an army recruit is found dead, his fellow...</td>\n",
       "      <td>Horror Movies</td>\n",
       "    </tr>\n",
       "    <tr>\n",
       "      <th>2</th>\n",
       "      <td>s4</td>\n",
       "      <td>Movie</td>\n",
       "      <td>9</td>\n",
       "      <td>Shane Acker</td>\n",
       "      <td>Elijah Wood, John C. Reilly, Jennifer Connelly...</td>\n",
       "      <td>United States</td>\n",
       "      <td>November 16, 2017</td>\n",
       "      <td>2009</td>\n",
       "      <td>80</td>\n",
       "      <td>In a postapocalyptic world, rag-doll robots hi...</td>\n",
       "      <td>Action</td>\n",
       "    </tr>\n",
       "  </tbody>\n",
       "</table>\n",
       "</div>"
      ],
      "text/plain": [
       "  show_id   type  title           director  \\\n",
       "0      s2  Movie   7:19  Jorge Michel Grau   \n",
       "1      s3  Movie  23:59       Gilbert Chan   \n",
       "2      s4  Movie      9        Shane Acker   \n",
       "\n",
       "                                                cast        country  \\\n",
       "0  Demián Bichir, Héctor Bonilla, Oscar Serrano, ...         Mexico   \n",
       "1  Tedd Chan, Stella Chung, Henley Hii, Lawrence ...      Singapore   \n",
       "2  Elijah Wood, John C. Reilly, Jennifer Connelly...  United States   \n",
       "\n",
       "          date_added  release_year  duration  \\\n",
       "0  December 23, 2016          2016        93   \n",
       "1  December 20, 2018          2011        78   \n",
       "2  November 16, 2017          2009        80   \n",
       "\n",
       "                                         description          genre  \n",
       "0  After a devastating earthquake hits Mexico Cit...         Dramas  \n",
       "1  When an army recruit is found dead, his fellow...  Horror Movies  \n",
       "2  In a postapocalyptic world, rag-doll robots hi...         Action  "
      ]
     },
     "execution_count": 2,
     "metadata": {},
     "output_type": "execute_result"
    }
   ],
   "source": [
    "# having a quick view the dataset from first 03 rows \n",
    "netflix_df.head(3)"
   ]
  },
  {
   "cell_type": "code",
   "execution_count": 3,
   "id": "a7b13ac5",
   "metadata": {},
   "outputs": [
    {
     "data": {
      "text/html": [
       "<div>\n",
       "<style scoped>\n",
       "    .dataframe tbody tr th:only-of-type {\n",
       "        vertical-align: middle;\n",
       "    }\n",
       "\n",
       "    .dataframe tbody tr th {\n",
       "        vertical-align: top;\n",
       "    }\n",
       "\n",
       "    .dataframe thead th {\n",
       "        text-align: right;\n",
       "    }\n",
       "</style>\n",
       "<table border=\"1\" class=\"dataframe\">\n",
       "  <thead>\n",
       "    <tr style=\"text-align: right;\">\n",
       "      <th></th>\n",
       "      <th>show_id</th>\n",
       "      <th>type</th>\n",
       "      <th>title</th>\n",
       "      <th>director</th>\n",
       "      <th>cast</th>\n",
       "      <th>country</th>\n",
       "      <th>date_added</th>\n",
       "      <th>release_year</th>\n",
       "      <th>duration</th>\n",
       "      <th>description</th>\n",
       "      <th>genre</th>\n",
       "    </tr>\n",
       "  </thead>\n",
       "  <tbody>\n",
       "    <tr>\n",
       "      <th>4809</th>\n",
       "      <td>s7782</td>\n",
       "      <td>Movie</td>\n",
       "      <td>Zoom</td>\n",
       "      <td>Peter Hewitt</td>\n",
       "      <td>Tim Allen, Courteney Cox, Chevy Chase, Kate Ma...</td>\n",
       "      <td>United States</td>\n",
       "      <td>January 11, 2020</td>\n",
       "      <td>2006</td>\n",
       "      <td>88</td>\n",
       "      <td>Dragged from civilian life, a former superhero...</td>\n",
       "      <td>Children</td>\n",
       "    </tr>\n",
       "    <tr>\n",
       "      <th>4810</th>\n",
       "      <td>s7783</td>\n",
       "      <td>Movie</td>\n",
       "      <td>Zozo</td>\n",
       "      <td>Josef Fares</td>\n",
       "      <td>Imad Creidi, Antoinette Turk, Elias Gergi, Car...</td>\n",
       "      <td>Sweden</td>\n",
       "      <td>October 19, 2020</td>\n",
       "      <td>2005</td>\n",
       "      <td>99</td>\n",
       "      <td>When Lebanon's Civil War deprives Zozo of his ...</td>\n",
       "      <td>Dramas</td>\n",
       "    </tr>\n",
       "    <tr>\n",
       "      <th>4811</th>\n",
       "      <td>s7784</td>\n",
       "      <td>Movie</td>\n",
       "      <td>Zubaan</td>\n",
       "      <td>Mozez Singh</td>\n",
       "      <td>Vicky Kaushal, Sarah-Jane Dias, Raaghav Chanan...</td>\n",
       "      <td>India</td>\n",
       "      <td>March 2, 2019</td>\n",
       "      <td>2015</td>\n",
       "      <td>111</td>\n",
       "      <td>A scrappy but poor boy worms his way into a ty...</td>\n",
       "      <td>Dramas</td>\n",
       "    </tr>\n",
       "  </tbody>\n",
       "</table>\n",
       "</div>"
      ],
      "text/plain": [
       "     show_id   type   title      director  \\\n",
       "4809   s7782  Movie    Zoom  Peter Hewitt   \n",
       "4810   s7783  Movie    Zozo   Josef Fares   \n",
       "4811   s7784  Movie  Zubaan   Mozez Singh   \n",
       "\n",
       "                                                   cast        country  \\\n",
       "4809  Tim Allen, Courteney Cox, Chevy Chase, Kate Ma...  United States   \n",
       "4810  Imad Creidi, Antoinette Turk, Elias Gergi, Car...         Sweden   \n",
       "4811  Vicky Kaushal, Sarah-Jane Dias, Raaghav Chanan...          India   \n",
       "\n",
       "            date_added  release_year  duration  \\\n",
       "4809  January 11, 2020          2006        88   \n",
       "4810  October 19, 2020          2005        99   \n",
       "4811     March 2, 2019          2015       111   \n",
       "\n",
       "                                            description     genre  \n",
       "4809  Dragged from civilian life, a former superhero...  Children  \n",
       "4810  When Lebanon's Civil War deprives Zozo of his ...    Dramas  \n",
       "4811  A scrappy but poor boy worms his way into a ty...    Dramas  "
      ]
     },
     "execution_count": 3,
     "metadata": {},
     "output_type": "execute_result"
    }
   ],
   "source": [
    "# having a quick view the dataset from last 03 rows \n",
    "netflix_df.tail(3)"
   ]
  },
  {
   "cell_type": "code",
   "execution_count": 4,
   "id": "0abcdcc7",
   "metadata": {},
   "outputs": [
    {
     "data": {
      "text/html": [
       "<div>\n",
       "<style scoped>\n",
       "    .dataframe tbody tr th:only-of-type {\n",
       "        vertical-align: middle;\n",
       "    }\n",
       "\n",
       "    .dataframe tbody tr th {\n",
       "        vertical-align: top;\n",
       "    }\n",
       "\n",
       "    .dataframe thead th {\n",
       "        text-align: right;\n",
       "    }\n",
       "</style>\n",
       "<table border=\"1\" class=\"dataframe\">\n",
       "  <thead>\n",
       "    <tr style=\"text-align: right;\">\n",
       "      <th></th>\n",
       "      <th>release_year</th>\n",
       "      <th>duration</th>\n",
       "    </tr>\n",
       "  </thead>\n",
       "  <tbody>\n",
       "    <tr>\n",
       "      <th>count</th>\n",
       "      <td>4812.000000</td>\n",
       "      <td>4812.000000</td>\n",
       "    </tr>\n",
       "    <tr>\n",
       "      <th>mean</th>\n",
       "      <td>2012.711554</td>\n",
       "      <td>99.566708</td>\n",
       "    </tr>\n",
       "    <tr>\n",
       "      <th>std</th>\n",
       "      <td>9.517978</td>\n",
       "      <td>30.889305</td>\n",
       "    </tr>\n",
       "    <tr>\n",
       "      <th>min</th>\n",
       "      <td>1942.000000</td>\n",
       "      <td>1.000000</td>\n",
       "    </tr>\n",
       "    <tr>\n",
       "      <th>25%</th>\n",
       "      <td>2011.000000</td>\n",
       "      <td>88.000000</td>\n",
       "    </tr>\n",
       "    <tr>\n",
       "      <th>50%</th>\n",
       "      <td>2016.000000</td>\n",
       "      <td>99.000000</td>\n",
       "    </tr>\n",
       "    <tr>\n",
       "      <th>75%</th>\n",
       "      <td>2018.000000</td>\n",
       "      <td>116.000000</td>\n",
       "    </tr>\n",
       "    <tr>\n",
       "      <th>max</th>\n",
       "      <td>2021.000000</td>\n",
       "      <td>253.000000</td>\n",
       "    </tr>\n",
       "  </tbody>\n",
       "</table>\n",
       "</div>"
      ],
      "text/plain": [
       "       release_year     duration\n",
       "count   4812.000000  4812.000000\n",
       "mean    2012.711554    99.566708\n",
       "std        9.517978    30.889305\n",
       "min     1942.000000     1.000000\n",
       "25%     2011.000000    88.000000\n",
       "50%     2016.000000    99.000000\n",
       "75%     2018.000000   116.000000\n",
       "max     2021.000000   253.000000"
      ]
     },
     "execution_count": 4,
     "metadata": {},
     "output_type": "execute_result"
    }
   ],
   "source": [
    "# Basic statistical analysis on the dataset\n",
    "netflix_df.describe()"
   ]
  },
  {
   "cell_type": "code",
   "execution_count": 5,
   "id": "72658473-114f-49eb-bd4e-cc03c710834a",
   "metadata": {
    "executionCancelledAt": null,
    "executionTime": 50,
    "lastExecutedAt": 1726339171248,
    "lastExecutedByKernel": "9721a70a-bb53-488a-a06d-d6eb4ed82360",
    "lastScheduledRunId": null,
    "lastSuccessfullyExecutedCode": "# checking for the dimension \nnetflix_df.shape"
   },
   "outputs": [
    {
     "data": {
      "text/plain": [
       "(4812, 11)"
      ]
     },
     "execution_count": 5,
     "metadata": {},
     "output_type": "execute_result"
    }
   ],
   "source": [
    "# checking for the dimension of the dataset\n",
    "netflix_df.shape"
   ]
  },
  {
   "cell_type": "markdown",
   "id": "2e2ec8f3",
   "metadata": {},
   "source": [
    "## B. DATA PREPARATION"
   ]
  },
  {
   "cell_type": "code",
   "execution_count": 6,
   "id": "b6a5509e",
   "metadata": {},
   "outputs": [
    {
     "data": {
      "text/plain": [
       "show_id         object\n",
       "type            object\n",
       "title           object\n",
       "director        object\n",
       "cast            object\n",
       "country         object\n",
       "date_added      object\n",
       "release_year     int64\n",
       "duration         int64\n",
       "description     object\n",
       "genre           object\n",
       "dtype: object"
      ]
     },
     "execution_count": 6,
     "metadata": {},
     "output_type": "execute_result"
    }
   ],
   "source": [
    "# checking the data types\n",
    "netflix_df.dtypes"
   ]
  },
  {
   "cell_type": "code",
   "execution_count": 7,
   "id": "3944bda7-75e6-4aac-b308-cf66f6715990",
   "metadata": {
    "executionCancelledAt": null,
    "executionTime": 59,
    "lastExecutedAt": 1726339171308,
    "lastExecutedByKernel": "9721a70a-bb53-488a-a06d-d6eb4ed82360",
    "lastScheduledRunId": null,
    "lastSuccessfullyExecutedCode": "# checking for the features infomation\nnetflix_df.info()",
    "outputsMetadata": {
     "0": {
      "height": 356,
      "type": "stream"
     }
    }
   },
   "outputs": [
    {
     "name": "stdout",
     "output_type": "stream",
     "text": [
      "<class 'pandas.core.frame.DataFrame'>\n",
      "RangeIndex: 4812 entries, 0 to 4811\n",
      "Data columns (total 11 columns):\n",
      " #   Column        Non-Null Count  Dtype \n",
      "---  ------        --------------  ----- \n",
      " 0   show_id       4812 non-null   object\n",
      " 1   type          4812 non-null   object\n",
      " 2   title         4812 non-null   object\n",
      " 3   director      4812 non-null   object\n",
      " 4   cast          4812 non-null   object\n",
      " 5   country       4812 non-null   object\n",
      " 6   date_added    4812 non-null   object\n",
      " 7   release_year  4812 non-null   int64 \n",
      " 8   duration      4812 non-null   int64 \n",
      " 9   description   4812 non-null   object\n",
      " 10  genre         4812 non-null   object\n",
      "dtypes: int64(2), object(9)\n",
      "memory usage: 413.7+ KB\n"
     ]
    }
   ],
   "source": [
    "# checking for the features infomation\n",
    "netflix_df.info()"
   ]
  },
  {
   "cell_type": "code",
   "execution_count": 8,
   "id": "37bd097b",
   "metadata": {},
   "outputs": [],
   "source": [
    "# Remove any leading or trailing spaces at the columns names for easy access late\n",
    "netflix_df.columns = netflix_df.columns.str.strip()"
   ]
  },
  {
   "cell_type": "code",
   "execution_count": 9,
   "id": "21cb4cb7",
   "metadata": {},
   "outputs": [
    {
     "data": {
      "text/plain": [
       "False"
      ]
     },
     "execution_count": 9,
     "metadata": {},
     "output_type": "execute_result"
    }
   ],
   "source": [
    "# checking for any duplicate \n",
    "netflix_df.duplicated().any()"
   ]
  },
  {
   "cell_type": "code",
   "execution_count": 10,
   "id": "ddeb566c",
   "metadata": {},
   "outputs": [
    {
     "data": {
      "text/plain": [
       "show_id         False\n",
       "type            False\n",
       "title           False\n",
       "director        False\n",
       "cast            False\n",
       "country         False\n",
       "date_added      False\n",
       "release_year    False\n",
       "duration        False\n",
       "description     False\n",
       "genre           False\n",
       "dtype: bool"
      ]
     },
     "execution_count": 10,
     "metadata": {},
     "output_type": "execute_result"
    }
   ],
   "source": [
    "# Checking for null values\n",
    "netflix_df.isna().any()"
   ]
  },
  {
   "cell_type": "markdown",
   "id": "0617770f",
   "metadata": {},
   "source": [
    "## C. RESPONDING TO QUESTIONS IN THE NETFLIX MOVIE EXPLORATION ANALYSIS  "
   ]
  },
  {
   "cell_type": "markdown",
   "id": "fb044fc4",
   "metadata": {},
   "source": [
    "##### C.1 What was the most frequent movie duration in the 1990s? Save an approximate answer as an integer called duration (use 1990 as the decade's start year)."
   ]
  },
  {
   "cell_type": "code",
   "execution_count": 11,
   "id": "c85ac740-bb68-475c-9fd6-d3a3aa90f2c8",
   "metadata": {
    "executionCancelledAt": null,
    "executionTime": 58,
    "lastExecutedAt": 1726339171436,
    "lastExecutedByKernel": "9721a70a-bb53-488a-a06d-d6eb4ed82360",
    "lastScheduledRunId": null,
    "lastSuccessfullyExecutedCode": "# Cleaning the column \"type\" by replacing all non with single blank space  \nnetflix_df['type']=netflix_df['type'].str.replace('[^a-zA-Z]',' ')\n\n# Cleaning the column \"type\" with low case  \nnetflix_df['type']=netflix_df['type'].str.lower()"
   },
   "outputs": [],
   "source": [
    "# Cleaning the 'type' column by replacing non-alphabetic characters with a single space\n",
    "netflix_df['type']=netflix_df['type'].str.replace('[^a-zA-Z]',' ')"
   ]
  },
  {
   "cell_type": "code",
   "execution_count": 12,
   "id": "6c64a139",
   "metadata": {},
   "outputs": [],
   "source": [
    "# Converting 'type' column values to lowercase\n",
    "netflix_df['type']=netflix_df['type'].str.lower()"
   ]
  },
  {
   "cell_type": "code",
   "execution_count": 13,
   "id": "1fd2a4e3-7f9a-457f-8260-20972bd1dd31",
   "metadata": {
    "executionCancelledAt": null,
    "executionTime": 52,
    "lastExecutedAt": 1726339171488,
    "lastExecutedByKernel": "9721a70a-bb53-488a-a06d-d6eb4ed82360",
    "lastScheduledRunId": null,
    "lastSuccessfullyExecutedCode": "# Creating a subset of only movies\nnetflix_movies_df=netflix_df[netflix_df['type']== \"movie\"]"
   },
   "outputs": [],
   "source": [
    "# Creating a subset containing only movies\n",
    "netflix_movies=netflix_df[netflix_df['type']== \"movie\"]"
   ]
  },
  {
   "cell_type": "code",
   "execution_count": 14,
   "id": "c2808ea9-0b0d-40d3-b1ad-458ffd2c4721",
   "metadata": {
    "executionCancelledAt": null,
    "executionTime": 52,
    "lastExecutedAt": 1726339171540,
    "lastExecutedByKernel": "9721a70a-bb53-488a-a06d-d6eb4ed82360",
    "lastScheduledRunId": null,
    "lastSuccessfullyExecutedCode": "# Filtering all movies released between 1990 and 1999¶\nnetflix_movies_1990s=netflix_movies_df[(netflix_movies_df[\"release_year\"]>=1990) & (netflix_movies_df[\"release_year\"]<=1999)]"
   },
   "outputs": [],
   "source": [
    "# Filtering movies released between 1990 and 1999\n",
    "netflix_movies_1990s=netflix_movies[(netflix_movies[\"release_year\"]>=1990)\\\n",
    "                                       & (netflix_movies[\"release_year\"]<=1999)]"
   ]
  },
  {
   "cell_type": "code",
   "execution_count": 15,
   "id": "7cb6f1bf-f8d3-4e4b-b310-f84e60adfb88",
   "metadata": {
    "executionCancelledAt": null,
    "executionTime": 55,
    "lastExecutedAt": 1726339171596,
    "lastExecutedByKernel": "9721a70a-bb53-488a-a06d-d6eb4ed82360",
    "lastScheduledRunId": null,
    "lastSuccessfullyExecutedCode": "# retriving the most frequenty movie duration in the 1990s\nduration=netflix_movies_1990s['duration'].value_counts().idxmax().astype(int)\nduration"
   },
   "outputs": [
    {
     "name": "stdout",
     "output_type": "stream",
     "text": [
      " The most frequent movie duration in the 1990s is 94\n"
     ]
    }
   ],
   "source": [
    "# Retrieving the most frequent movie duration in the 1990s\n",
    "duration=netflix_movies_1990s['duration'].value_counts().idxmax().astype(int)\n",
    "print(f\" The most frequent movie duration in the 1990s is {duration}\")"
   ]
  },
  {
   "cell_type": "markdown",
   "id": "af8f90ba",
   "metadata": {},
   "source": [
    "##### C.2 A movie is considered short if it is less than 90 minutes. Count the number of short action movies released in the 1990s and save this integer as short_movie_count"
   ]
  },
  {
   "cell_type": "code",
   "execution_count": 16,
   "id": "90d8f14c-3490-4f5b-a5b2-cf12de1c4e43",
   "metadata": {
    "executionCancelledAt": null,
    "executionTime": 55,
    "lastExecutedAt": 1726339171652,
    "lastExecutedByKernel": "9721a70a-bb53-488a-a06d-d6eb4ed82360",
    "lastScheduledRunId": null,
    "lastSuccessfullyExecutedCode": "# Cleaning the column \"genre\" by replacing all non with single blank space  \nnetflix_movies_1990s['genre']=netflix_movies_1990s['genre'].str.replace('[^a-zA-Z]',' ')\n\n# Cleaning the column \"type\" with low case  \nnetflix_movies_1990s['genre']=netflix_movies_1990s['genre'].str.lower()"
   },
   "outputs": [],
   "source": [
    "# Cleaning the 'genre' column by replacing non-alphabetic characters with a single space\n",
    "netflix_movies_1990s.loc[:,'genre']=netflix_movies_1990s['genre'].str.replace('[^a-zA-Z]',' ')"
   ]
  },
  {
   "cell_type": "code",
   "execution_count": 17,
   "id": "8f1d40bc",
   "metadata": {},
   "outputs": [],
   "source": [
    "# Converting 'Genre' column values to lowercase \n",
    "netflix_movies_1990s.loc[:,'genre']=netflix_movies_1990s['genre'].str.lower()"
   ]
  },
  {
   "cell_type": "code",
   "execution_count": 18,
   "id": "0bd66fb9-b17f-477c-93af-9ccb6ccd2ad4",
   "metadata": {
    "executionCancelledAt": null,
    "executionTime": 51,
    "lastExecutedAt": 1726339171704,
    "lastExecutedByKernel": "9721a70a-bb53-488a-a06d-d6eb4ed82360",
    "lastScheduledRunId": null,
    "lastSuccessfullyExecutedCode": "# Filtering all action movies released between 1990 and 1999¶\nnetflix_action_movies_1990s = netflix_movies_1990s[netflix_movies_1990s['genre'] == 'action']"
   },
   "outputs": [],
   "source": [
    "# Creating a subset containing only action movies in 1990s\n",
    "netflix_action_movies_1990s = netflix_movies_1990s[netflix_movies_1990s['genre'] == 'action']"
   ]
  },
  {
   "cell_type": "code",
   "execution_count": 19,
   "id": "0854110c-6823-42c1-b3f9-538903968a88",
   "metadata": {
    "executionCancelledAt": null,
    "executionTime": 52,
    "lastExecutedAt": 1726339171756,
    "lastExecutedByKernel": "9721a70a-bb53-488a-a06d-d6eb4ed82360",
    "lastScheduledRunId": null,
    "lastSuccessfullyExecutedCode": "# subsetting all action movies released between 1990 and 1999 with duration < 90\nshort_action_movies=netflix_action_movies_1990s[netflix_action_movies_1990s['duration']<90 ]"
   },
   "outputs": [],
   "source": [
    "# Retrieving action movies from the 1990s with a duration of less than 90 minutes\n",
    "short_action_movies=netflix_action_movies_1990s[netflix_action_movies_1990s['duration']<90 ]"
   ]
  },
  {
   "cell_type": "code",
   "execution_count": 20,
   "id": "6f849267-d7b3-4990-9b14-fdcb94d4bf66",
   "metadata": {
    "executionCancelledAt": null,
    "executionTime": 51,
    "lastExecutedAt": 1726339171808,
    "lastExecutedByKernel": "9721a70a-bb53-488a-a06d-d6eb4ed82360",
    "lastScheduledRunId": null,
    "lastSuccessfullyExecutedCode": "# Calculte the number rows in short action movies \nshort_movie_count=len(short_action_movies)\nshort_movie_count"
   },
   "outputs": [
    {
     "name": "stdout",
     "output_type": "stream",
     "text": [
      " The total number of short action movies is 7\n"
     ]
    }
   ],
   "source": [
    "# Calculate the number of rows in short action movies\n",
    "short_movie_count=len(short_action_movies)\n",
    "print(f\" The total number of short action movies is {short_movie_count}\")"
   ]
  }
 ],
 "metadata": {
  "colab": {
   "name": "Welcome to DataCamp Workspaces.ipynb",
   "provenance": []
  },
  "editor": "DataLab",
  "kernelspec": {
   "display_name": "Python 3 (ipykernel)",
   "language": "python",
   "name": "python3"
  },
  "language_info": {
   "codemirror_mode": {
    "name": "ipython",
    "version": 3
   },
   "file_extension": ".py",
   "mimetype": "text/x-python",
   "name": "python",
   "nbconvert_exporter": "python",
   "pygments_lexer": "ipython3",
   "version": "3.9.19"
  }
 },
 "nbformat": 4,
 "nbformat_minor": 5
}
